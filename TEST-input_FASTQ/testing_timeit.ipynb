{
 "cells": [
  {
   "cell_type": "code",
   "execution_count": 8,
   "id": "a3442171-ed7a-4222-aa97-f572a8eb6077",
   "metadata": {},
   "outputs": [
    {
     "name": "stdout",
     "output_type": "stream",
     "text": [
      "41 45\n"
     ]
    }
   ],
   "source": [
    "# %%timeit \n",
    "import bioinfo\n",
    "\n",
    "\n",
    "\n",
    "lowscore1 = 100\n",
    "lowscore2 = 100\n",
    "\n",
    "for a in \"JJJJJJ\":\n",
    "    qscore1 = bioinfo.convert_phred(a)\n",
    "    if qscore1 < lowscore1:\n",
    "        lowscore1 = qscore1\n",
    "for a in \"NNNNNNNNNNNN\":\n",
    "    qscore2 = bioinfo.convert_phred(a)\n",
    "    if qscore2 < lowscore2:\n",
    "        lowscore2 = qscore2\n",
    "\n",
    "print(lowscore1, lowscore2)"
   ]
  },
  {
   "cell_type": "code",
   "execution_count": null,
   "id": "037994f1-6122-42ec-af08-dc685eae419f",
   "metadata": {},
   "outputs": [],
   "source": []
  }
 ],
 "metadata": {
  "kernelspec": {
   "display_name": "Python 3 (ipykernel)",
   "language": "python",
   "name": "python3"
  },
  "language_info": {
   "codemirror_mode": {
    "name": "ipython",
    "version": 3
   },
   "file_extension": ".py",
   "mimetype": "text/x-python",
   "name": "python",
   "nbconvert_exporter": "python",
   "pygments_lexer": "ipython3",
   "version": "3.11.4"
  }
 },
 "nbformat": 4,
 "nbformat_minor": 5
}
